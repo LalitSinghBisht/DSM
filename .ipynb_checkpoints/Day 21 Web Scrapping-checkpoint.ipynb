{
 "cells": [
  {
   "cell_type": "code",
   "execution_count": 184,
   "id": "811e8eff-3091-44fb-920f-7372cdc9333c",
   "metadata": {
    "tags": []
   },
   "outputs": [],
   "source": [
    "import requests\n",
    "from bs4 import BeautifulSoup as soup\n",
    "from urllib.request import urlopen"
   ]
  },
  {
   "cell_type": "code",
   "execution_count": 185,
   "id": "4238e01e-a479-4081-8cde-e1d71304671b",
   "metadata": {
    "tags": []
   },
   "outputs": [],
   "source": [
    "flipkart_url = \"https://www.flipkart.com/search?q=\" + \"tv\""
   ]
  },
  {
   "cell_type": "code",
   "execution_count": 186,
   "id": "453b19d4-d454-483b-8e0b-cfd4ba2262c2",
   "metadata": {},
   "outputs": [
    {
     "data": {
      "text/plain": [
       "'https://www.flipkart.com/search?q=tv'"
      ]
     },
     "execution_count": 186,
     "metadata": {},
     "output_type": "execute_result"
    }
   ],
   "source": [
    "flipkart_url"
   ]
  },
  {
   "cell_type": "code",
   "execution_count": 187,
   "id": "cdeed42d-3b6d-47b1-980b-59ee8d715e05",
   "metadata": {
    "tags": []
   },
   "outputs": [],
   "source": [
    "urlclient = urlopen(flipkart_url)"
   ]
  },
  {
   "cell_type": "code",
   "execution_count": 188,
   "id": "2e1c9fc0-1e8e-4e02-9dc7-a9d796fe3947",
   "metadata": {
    "tags": []
   },
   "outputs": [],
   "source": [
    "flipkart_page = urlclient.read()"
   ]
  },
  {
   "cell_type": "code",
   "execution_count": 189,
   "id": "7051e647-b8e1-4a97-a8d0-8f8b9975191f",
   "metadata": {
    "tags": []
   },
   "outputs": [],
   "source": [
    "flipkart_html = soup(flipkart_page , 'html.parser')"
   ]
  },
  {
   "cell_type": "code",
   "execution_count": 190,
   "id": "941157fd-b672-49e1-a745-ec2c65a35881",
   "metadata": {
    "tags": []
   },
   "outputs": [
    {
     "data": {
      "text/plain": [
       "'https://www.flipkart.com/dyanora-sigma-108-cm-43-inch-full-hd-led-smart-linux-tv-40-watt-box-speakers-bezel-less-design/p/itmcdbced04b2319?pid=TVSGHZAGFYKGZQ8K&lid=LSTTVSGHZAGFYKGZQ8KUAM8H1&marketplace=FLIPKART&q=tv&store=ckf%2Fczl&srno=s_1_1&otracker=search&otracker1=search&fm=organic&iid=en_xF8tH%2FD493QWU9p74CMkRhAnl%2FZDSt2g4RX8asyXf547oHm6aKW0Vwig1Ae%2FF%2BxpMab4jOA70lzjnpWCWaM8Dw%3D%3D&ppt=sp&ppn=sp&ssid=6vokrwan280000001676982936780&qH=c9a1fdac6e082dd8'"
      ]
     },
     "execution_count": 190,
     "metadata": {},
     "output_type": "execute_result"
    }
   ],
   "source": [
    "\"https://www.flipkart.com\"+\"/dyanora-sigma-108-cm-43-inch-full-hd-led-smart-linux-tv-40-watt-box-speakers-bezel-less-design/p/itmcdbced04b2319?pid=TVSGHZAGFYKGZQ8K&lid=LSTTVSGHZAGFYKGZQ8KUAM8H1&marketplace=FLIPKART&q=tv&store=ckf%2Fczl&srno=s_1_1&otracker=search&otracker1=search&fm=organic&iid=en_xF8tH%2FD493QWU9p74CMkRhAnl%2FZDSt2g4RX8asyXf547oHm6aKW0Vwig1Ae%2FF%2BxpMab4jOA70lzjnpWCWaM8Dw%3D%3D&ppt=sp&ppn=sp&ssid=6vokrwan280000001676982936780&qH=c9a1fdac6e082dd8\""
   ]
  },
  {
   "cell_type": "code",
   "execution_count": 191,
   "id": "4b979d12-4f74-4777-b5b3-c48d254a3f93",
   "metadata": {
    "tags": []
   },
   "outputs": [],
   "source": [
    "bigbox = flipkart_html.find_all(\"div\" ,{\"class\":\"_1AtVbE col-12-12\"} )"
   ]
  },
  {
   "cell_type": "code",
   "execution_count": 192,
   "id": "1c696ac3-ad68-4ebe-a523-e5709d3601cc",
   "metadata": {
    "tags": []
   },
   "outputs": [
    {
     "data": {
      "text/plain": [
       "30"
      ]
     },
     "execution_count": 192,
     "metadata": {},
     "output_type": "execute_result"
    }
   ],
   "source": [
    "len(bigbox)"
   ]
  },
  {
   "cell_type": "code",
   "execution_count": 193,
   "id": "814dac9a-ecab-41be-9ace-a765e893b886",
   "metadata": {
    "tags": []
   },
   "outputs": [],
   "source": [
    "del bigbox[0:3]\n",
    "del bigbox[-4:]"
   ]
  },
  {
   "cell_type": "code",
   "execution_count": 194,
   "id": "cbf4c815-94f9-499e-a6e3-b84a8e07ea8a",
   "metadata": {
    "tags": []
   },
   "outputs": [],
   "source": [
    "productlink = \"https://www.flipkart.com\" + bigbox[0].div.div.div.a['href']"
   ]
  },
  {
   "cell_type": "code",
   "execution_count": 195,
   "id": "317673bb-67f5-48e6-81a4-a9d6f77e10c8",
   "metadata": {
    "tags": []
   },
   "outputs": [
    {
     "name": "stdout",
     "output_type": "stream",
     "text": [
      "https://www.flipkart.com/dyanora-109-cm-43-inch-ultra-hd-4k-led-smart-webos-tv/p/itm1bfdb24f70724?pid=TVSGM2KAAWWRXAUH&lid=LSTTVSGM2KAAWWRXAUH4CDMIH&marketplace=FLIPKART&q=tv&store=ckf%2Fczl&srno=s_1_2&otracker=search&fm=organic&iid=en_VASaNhW1jA6sb7lZYFCT71QEQMpsfXNeUOlyU%2F2XWn3NBDWM95Yc9ng%2FTWyu1s4SMsXM7BmLHA13bQ8P8LQy7w%3D%3D&ppt=None&ppn=None&ssid=r6dkhyq11c0000001677068734906&qH=c9a1fdac6e082dd8\n",
      "https://www.flipkart.com/oneplus-y1-80-cm-32-inch-hd-ready-led-smart-android-tv-dolby-audio/p/itme650a6bb8cee3?pid=TVSFVWD2ENXYGEJY&lid=LSTTVSFVWD2ENXYGEJYBNWSST&marketplace=FLIPKART&q=tv&store=ckf%2Fczl&srno=s_1_3&otracker=search&fm=organic&iid=9cfdf1ab-54b8-4468-ac54-a8d8beac6389.TVSFVWD2ENXYGEJY.SEARCH&ppt=None&ppn=None&ssid=r6dkhyq11c0000001677068734906&qH=c9a1fdac6e082dd8\n",
      "https://www.flipkart.com/samsung-80-cm-32-inch-hd-ready-led-smart-tizen-tv-2022-model/p/itm3c07ddc2dd25d?pid=TVSGHY2UZA9YHWQN&lid=LSTTVSGHY2UZA9YHWQNNQENTU&marketplace=FLIPKART&q=tv&store=ckf%2Fczl&spotlightTagId=BestsellerId_ckf%2Fczl&srno=s_1_4&otracker=search&fm=organic&iid=9cfdf1ab-54b8-4468-ac54-a8d8beac6389.TVSGHY2UZA9YHWQN.SEARCH&ppt=None&ppn=None&ssid=r6dkhyq11c0000001677068734906&qH=c9a1fdac6e082dd8\n",
      "https://www.flipkart.com/oneplus-y1s-80-cm-32-inch-hd-ready-led-smart-android-tv-11-bezel-less-frame/p/itm0a39edd7df236?pid=TVSGAXEVXNG9YBUM&lid=LSTTVSGAXEVXNG9YBUMLGWYAS&marketplace=FLIPKART&q=tv&store=ckf%2Fczl&srno=s_1_5&otracker=search&fm=organic&iid=9cfdf1ab-54b8-4468-ac54-a8d8beac6389.TVSGAXEVXNG9YBUM.SEARCH&ppt=None&ppn=None&ssid=r6dkhyq11c0000001677068734906&qH=c9a1fdac6e082dd8\n",
      "https://www.flipkart.com/thomson-alpha-80-cm-32-inch-hd-ready-led-smart-linux-tv-30-w-sound-output-bezel-less-design/p/itm0e90bcdadb9c9?pid=TVSGEMQV7R4CMTGA&lid=LSTTVSGEMQV7R4CMTGAN8OZ8J&marketplace=FLIPKART&q=tv&store=ckf%2Fczl&srno=s_1_6&otracker=search&fm=organic&iid=9cfdf1ab-54b8-4468-ac54-a8d8beac6389.TVSGEMQV7R4CMTGA.SEARCH&ppt=None&ppn=None&ssid=r6dkhyq11c0000001677068734906&qH=c9a1fdac6e082dd8\n",
      "https://www.flipkart.com/samsung-crystal-4k-neo-series-108-cm-43-inch-ultra-hd-4k-led-smart-tizen-tv-black-2022-model/p/itma076c4dd16aa4?pid=TVSGEAGP9GXWCHCX&lid=LSTTVSGEAGP9GXWCHCXSVNDV5&marketplace=FLIPKART&q=tv&store=ckf%2Fczl&srno=s_1_7&otracker=search&fm=organic&iid=9cfdf1ab-54b8-4468-ac54-a8d8beac6389.TVSGEAGP9GXWCHCX.SEARCH&ppt=None&ppn=None&ssid=r6dkhyq11c0000001677068734906&qH=c9a1fdac6e082dd8\n",
      "https://www.flipkart.com/infinix-y1-80-cm-32-inch-hd-ready-led-smart-linux-tv-wall-mount/p/itme5476ca89d1b0?pid=TVSGFGF34GMTB9KF&lid=LSTTVSGFGF34GMTB9KFF9JZPY&marketplace=FLIPKART&q=tv&store=ckf%2Fczl&srno=s_1_8&otracker=search&fm=organic&iid=9cfdf1ab-54b8-4468-ac54-a8d8beac6389.TVSGFGF34GMTB9KF.SEARCH&ppt=None&ppn=None&ssid=r6dkhyq11c0000001677068734906&qH=c9a1fdac6e082dd8\n",
      "https://www.flipkart.com/mi-5a-108-cm-43-inch-full-hd-led-smart-android-tv-dolby-audio-2022-model/p/itm2d5967449cb9b?pid=TVSGD5CS3CXNF2DF&lid=LSTTVSGD5CS3CXNF2DFPJ6HSF&marketplace=FLIPKART&q=tv&store=ckf%2Fczl&srno=s_1_9&otracker=search&fm=organic&iid=9cfdf1ab-54b8-4468-ac54-a8d8beac6389.TVSGD5CS3CXNF2DF.SEARCH&ppt=None&ppn=None&ssid=r6dkhyq11c0000001677068734906&qH=c9a1fdac6e082dd8\n",
      "https://www.flipkart.com/mi-5a-100-cm-40-inch-full-hd-led-smart-android-tv-dolby-audio-2022-model/p/itm6be60be56f52d?pid=TVSGD5CS4N7NWFZD&lid=LSTTVSGD5CS4N7NWFZDDJBZRI&marketplace=FLIPKART&q=tv&store=ckf%2Fczl&srno=s_1_10&otracker=search&fm=organic&iid=9cfdf1ab-54b8-4468-ac54-a8d8beac6389.TVSGD5CS4N7NWFZD.SEARCH&ppt=None&ppn=None&ssid=r6dkhyq11c0000001677068734906&qH=c9a1fdac6e082dd8\n",
      "https://www.flipkart.com/lg-80-cm-32-inch-hd-ready-led-smart-webos-tv/p/itm6207e6d122567?pid=TVSFTW4CSRW8PGDQ&lid=LSTTVSFTW4CSRW8PGDQSZQIO6&marketplace=FLIPKART&q=tv&store=ckf%2Fczl&srno=s_1_11&otracker=search&fm=organic&iid=9cfdf1ab-54b8-4468-ac54-a8d8beac6389.TVSFTW4CSRW8PGDQ.SEARCH&ppt=None&ppn=None&ssid=r6dkhyq11c0000001677068734906&qH=c9a1fdac6e082dd8\n",
      "https://www.flipkart.com/mi-x-series-108-cm-43-inch-ultra-hd-4k-led-smart-android-tv-dolby-vision-30w-audio-2022-model/p/itm39b39b602f81a?pid=TVSGHEQVGZVTSEBT&lid=LSTTVSGHEQVGZVTSEBT6BSNVA&marketplace=FLIPKART&q=tv&store=ckf%2Fczl&srno=s_1_12&otracker=search&fm=organic&iid=9cfdf1ab-54b8-4468-ac54-a8d8beac6389.TVSGHEQVGZVTSEBT.SEARCH&ppt=None&ppn=None&ssid=r6dkhyq11c0000001677068734906&qH=c9a1fdac6e082dd8\n",
      "https://www.flipkart.com/sens-80-cm-32-inch-hd-ready-led-smart-android-tv-dolby-audio-google-assistant/p/itm9340589d4f56d?pid=TVSGHY2BHWNJ7JHG&lid=LSTTVSGHY2BHWNJ7JHGUP5PRP&marketplace=FLIPKART&q=tv&store=ckf%2Fczl&srno=s_1_13&otracker=search&fm=organic&iid=9cfdf1ab-54b8-4468-ac54-a8d8beac6389.TVSGHY2BHWNJ7JHG.SEARCH&ppt=None&ppn=None&ssid=r6dkhyq11c0000001677068734906&qH=c9a1fdac6e082dd8\n",
      "https://www.flipkart.com/vu-gloled-108-cm-43-inch-ultra-hd-4k-led-smart-google-tv-dj-subwoofer-84w/p/itm65f2925757d94?pid=TVSGJKC9TUSZ2DHS&lid=LSTTVSGJKC9TUSZ2DHSYRCHBF&marketplace=FLIPKART&q=tv&store=ckf%2Fczl&srno=s_1_14&otracker=search&fm=organic&iid=9cfdf1ab-54b8-4468-ac54-a8d8beac6389.TVSGJKC9TUSZ2DHS.SEARCH&ppt=None&ppn=None&ssid=r6dkhyq11c0000001677068734906&qH=c9a1fdac6e082dd8\n",
      "https://www.flipkart.com/mi-x-series-138-cm-55-inch-ultra-hd-4k-led-smart-android-tv-dolby-vision-30w-audio-2022-model/p/itmd4ff31740dc25?pid=TVSGHEQVHEBXABCQ&lid=LSTTVSGHEQVHEBXABCQXB4RD9&marketplace=FLIPKART&q=tv&store=ckf%2Fczl&srno=s_1_15&otracker=search&fm=organic&iid=9cfdf1ab-54b8-4468-ac54-a8d8beac6389.TVSGHEQVHEBXABCQ.SEARCH&ppt=None&ppn=None&ssid=r6dkhyq11c0000001677068734906&qH=c9a1fdac6e082dd8\n",
      "https://www.flipkart.com/realme-80-cm-32-inch-hd-ready-led-smart-android-tv/p/itm56d1cf16da75b?pid=TVSFRTJQTZVKTF6Y&lid=LSTTVSFRTJQTZVKTF6YHMHXRW&marketplace=FLIPKART&q=tv&store=ckf%2Fczl&spotlightTagId=BestsellerId_ckf%2Fczl&srno=s_1_16&otracker=search&fm=organic&iid=9cfdf1ab-54b8-4468-ac54-a8d8beac6389.TVSFRTJQTZVKTF6Y.SEARCH&ppt=None&ppn=None&ssid=r6dkhyq11c0000001677068734906&qH=c9a1fdac6e082dd8\n",
      "https://www.flipkart.com/vu-gloled-139-cm-55-inch-ultra-hd-4k-led-smart-google-tv-dj-subwoofer-104w/p/itm7732e8b49d9c1?pid=TVSGGJSD8RGBZ5NR&lid=LSTTVSGGJSD8RGBZ5NRESIZND&marketplace=FLIPKART&q=tv&store=ckf%2Fczl&srno=s_1_17&otracker=search&fm=organic&iid=9cfdf1ab-54b8-4468-ac54-a8d8beac6389.TVSGGJSD8RGBZ5NR.SEARCH&ppt=None&ppn=None&ssid=r6dkhyq11c0000001677068734906&qH=c9a1fdac6e082dd8\n",
      "https://www.flipkart.com/iffalcon-tcl-u62-139-cm-55-inch-ultra-hd-4k-led-smart-google-tv/p/itm5c98871ea626d?pid=TVSGGJTQPBRFGGZK&lid=LSTTVSGGJTQPBRFGGZKONBVOD&marketplace=FLIPKART&q=tv&store=ckf%2Fczl&srno=s_1_18&otracker=search&fm=organic&iid=9cfdf1ab-54b8-4468-ac54-a8d8beac6389.TVSGGJTQPBRFGGZK.SEARCH&ppt=None&ppn=None&ssid=r6dkhyq11c0000001677068734906&qH=c9a1fdac6e082dd8\n",
      "https://www.flipkart.com/beethosol-80-cm-32-inch-hd-ready-led-tv/p/itmbc44ca58989cf?pid=TVSGG79MDS8CXWGD&lid=LSTTVSGG79MDS8CXWGD8P6NUB&marketplace=FLIPKART&q=tv&store=ckf%2Fczl&srno=s_1_19&otracker=search&fm=organic&iid=9cfdf1ab-54b8-4468-ac54-a8d8beac6389.TVSGG79MDS8CXWGD.SEARCH&ppt=None&ppn=None&ssid=r6dkhyq11c0000001677068734906&qH=c9a1fdac6e082dd8\n",
      "https://www.flipkart.com/hisense-139-cm-55-inch-ultra-hd-4k-led-smart-google-tv-102w-jbl-6-speakers-dolby-vision-atmos/p/itme41346c7f0a3b?pid=TVSGHBJR3TZ9ZNHT&lid=LSTTVSGHBJR3TZ9ZNHTX5LPPK&marketplace=FLIPKART&q=tv&store=ckf%2Fczl&srno=s_1_20&otracker=search&fm=organic&iid=9cfdf1ab-54b8-4468-ac54-a8d8beac6389.TVSGHBJR3TZ9ZNHT.SEARCH&ppt=None&ppn=None&ssid=r6dkhyq11c0000001677068734906&qH=c9a1fdac6e082dd8\n",
      "https://www.flipkart.com/lg-uq7500-108-cm-43-inch-ultra-hd-4k-led-smart-webos-tv-2022/p/itm39fd5782b27ed?pid=TVSGFGYS5TJRUJNV&lid=LSTTVSGFGYS5TJRUJNVLCTYNB&marketplace=FLIPKART&q=tv&store=ckf%2Fczl&srno=s_1_21&otracker=search&fm=organic&iid=9cfdf1ab-54b8-4468-ac54-a8d8beac6389.TVSGFGYS5TJRUJNV.SEARCH&ppt=None&ppn=None&ssid=r6dkhyq11c0000001677068734906&qH=c9a1fdac6e082dd8\n",
      "https://www.flipkart.com/thomson-9a-series-80-cm-32-inch-hd-ready-led-smart-android-tv/p/itmc9fc21690b634?pid=TVSFUYG8KB8GZAZA&lid=LSTTVSFUYG8KB8GZAZALMAHSC&marketplace=FLIPKART&q=tv&store=ckf%2Fczl&srno=s_1_22&otracker=search&fm=organic&iid=9cfdf1ab-54b8-4468-ac54-a8d8beac6389.TVSFUYG8KB8GZAZA.SEARCH&ppt=None&ppn=None&ssid=r6dkhyq11c0000001677068734906&qH=c9a1fdac6e082dd8\n",
      "https://www.flipkart.com/iffalcon-tcl-f53-100-cm-40-inch-full-hd-led-smart-android-tv-11/p/itm4af56d3acdfc7?pid=TVSGCYVJGZKRMXZE&lid=LSTTVSGCYVJGZKRMXZE32WAPX&marketplace=FLIPKART&q=tv&store=ckf%2Fczl&srno=s_1_23&otracker=search&fm=organic&iid=9cfdf1ab-54b8-4468-ac54-a8d8beac6389.TVSGCYVJGZKRMXZE.SEARCH&ppt=None&ppn=None&ssid=r6dkhyq11c0000001677068734906&qH=c9a1fdac6e082dd8\n",
      "https://www.flipkart.com/realme-100-3-cm-40-inch-full-hd-led-smart-android-tv-11-2022-model/p/itmfbee9155488c1?pid=TVSGDC5CN7XP3KNE&lid=LSTTVSGDC5CN7XP3KNEEXCHTD&marketplace=FLIPKART&q=tv&store=ckf%2Fczl&srno=s_1_24&otracker=search&fm=organic&iid=9cfdf1ab-54b8-4468-ac54-a8d8beac6389.TVSGDC5CN7XP3KNE.SEARCH&ppt=None&ppn=None&ssid=r6dkhyq11c0000001677068734906&qH=c9a1fdac6e082dd8\n"
     ]
    }
   ],
   "source": [
    "# Extracting all porduct links\n",
    "for i in bigbox:    \n",
    "    try:\n",
    "        print(\"https://www.flipkart.com\" + i.div.div.div.a['href'])            \n",
    "    except AttributeError as a:\n",
    "        print(a)"
   ]
  },
  {
   "cell_type": "code",
   "execution_count": 196,
   "id": "121e467f-4b56-419d-a508-7b1056454983",
   "metadata": {
    "tags": []
   },
   "outputs": [
    {
     "data": {
      "text/plain": [
       "'https://www.flipkart.com/dyanora-109-cm-43-inch-ultra-hd-4k-led-smart-webos-tv/p/itm1bfdb24f70724?pid=TVSGM2KAAWWRXAUH&lid=LSTTVSGM2KAAWWRXAUH4CDMIH&marketplace=FLIPKART&q=tv&store=ckf%2Fczl&srno=s_1_2&otracker=search&fm=organic&iid=en_VASaNhW1jA6sb7lZYFCT71QEQMpsfXNeUOlyU%2F2XWn3NBDWM95Yc9ng%2FTWyu1s4SMsXM7BmLHA13bQ8P8LQy7w%3D%3D&ppt=None&ppn=None&ssid=r6dkhyq11c0000001677068734906&qH=c9a1fdac6e082dd8'"
      ]
     },
     "execution_count": 196,
     "metadata": {},
     "output_type": "execute_result"
    }
   ],
   "source": [
    "productlink"
   ]
  },
  {
   "cell_type": "code",
   "execution_count": 197,
   "id": "a40d855a-a389-4f6f-abad-3e15ff7713e4",
   "metadata": {
    "tags": []
   },
   "outputs": [],
   "source": [
    "procuct_req = requests.get(productlink)"
   ]
  },
  {
   "cell_type": "code",
   "execution_count": 198,
   "id": "ae33159d-186e-4f6f-b4cb-e1565f0186bf",
   "metadata": {
    "tags": []
   },
   "outputs": [],
   "source": [
    "product_html = soup(procuct_req.text,'html.parser')"
   ]
  },
  {
   "cell_type": "code",
   "execution_count": 199,
   "id": "32d59cba-4388-4a3f-9baa-498efed56148",
   "metadata": {
    "tags": []
   },
   "outputs": [],
   "source": [
    "coment_box = product_html.find_all(\"div\",{\"class\":\"_16PBlm\"})"
   ]
  },
  {
   "cell_type": "code",
   "execution_count": 200,
   "id": "424914bb-a86a-4f8b-862f-e6faf0ab1019",
   "metadata": {
    "tags": []
   },
   "outputs": [
    {
     "data": {
      "text/plain": [
       "11"
      ]
     },
     "execution_count": 200,
     "metadata": {},
     "output_type": "execute_result"
    }
   ],
   "source": [
    "len(coment_box)"
   ]
  },
  {
   "cell_type": "code",
   "execution_count": 201,
   "id": "adfa3e5f-48c6-46f7-9f38-ac7b2675d949",
   "metadata": {
    "tags": []
   },
   "outputs": [
    {
     "data": {
      "text/plain": [
       "'Flipkart Customer'"
      ]
     },
     "execution_count": 201,
     "metadata": {},
     "output_type": "execute_result"
    }
   ],
   "source": [
    "coment_box[0].div.div.find_all(\"p\",{\"class\":\"_2sc7ZR _2V5EHH\"})[0].text"
   ]
  },
  {
   "cell_type": "code",
   "execution_count": 202,
   "id": "0c661072-852b-4f39-856d-d76b6ffc1bd1",
   "metadata": {
    "tags": []
   },
   "outputs": [],
   "source": [
    "del coment_box[-1]"
   ]
  },
  {
   "cell_type": "code",
   "execution_count": 203,
   "id": "b8539076-6191-47f1-b3fa-527967bf304a",
   "metadata": {
    "tags": []
   },
   "outputs": [
    {
     "name": "stdout",
     "output_type": "stream",
     "text": [
      "Flipkart Customer\n",
      "Ganesh Anandan Chettiyar\n",
      "Flipkart Customer\n",
      "Tanmoy  Das\n",
      "Sunil Kumar soni\n",
      "Wasim Ansari\n",
      "Flipkart Customer\n",
      "Sohil  Miragol \n",
      "Ketan Thakare\n",
      "Partho Mondal\n"
     ]
    }
   ],
   "source": [
    "for i in coment_box:\n",
    "    try:\n",
    "        print(i.div.div.find_all(\"p\",{\"class\":\"_2sc7ZR _2V5EHH\"})[0].text)\n",
    "    except AttributeError as a:\n",
    "        print(a)"
   ]
  },
  {
   "cell_type": "code",
   "execution_count": 204,
   "id": "7d42338a-9d11-448a-866f-3d098090fee4",
   "metadata": {
    "tags": []
   },
   "outputs": [
    {
     "name": "stdout",
     "output_type": "stream",
     "text": [
      "5\n",
      "5\n",
      "5\n",
      "5\n",
      "5\n",
      "3\n",
      "4\n",
      "5\n",
      "3\n",
      "5\n"
     ]
    }
   ],
   "source": [
    "for i in coment_box:\n",
    "    print(i.div.div.div.div.text)"
   ]
  },
  {
   "cell_type": "code",
   "execution_count": 205,
   "id": "d605e39b-1e78-410f-a81f-c398acd9a9ef",
   "metadata": {
    "tags": []
   },
   "outputs": [
    {
     "data": {
      "text/plain": [
       "'Must buy!'"
      ]
     },
     "execution_count": 205,
     "metadata": {},
     "output_type": "execute_result"
    }
   ],
   "source": [
    "coment_box[0].div.div.div.p.text"
   ]
  },
  {
   "cell_type": "code",
   "execution_count": 206,
   "id": "97181efc-5bd5-4998-ab35-7512f82af7ae",
   "metadata": {
    "tags": []
   },
   "outputs": [
    {
     "name": "stdout",
     "output_type": "stream",
     "text": [
      "Must buy!\n",
      "Mind-blowing purchase\n",
      "Great product\n",
      "Mind-blowing purchase\n",
      "Wonderful\n",
      "Decent product\n",
      "Delightful\n",
      "Great product\n",
      "Does the job\n",
      "Wonderful\n"
     ]
    }
   ],
   "source": [
    "for i in coment_box:\n",
    "    print(i.div.div.div.p.text )"
   ]
  },
  {
   "cell_type": "code",
   "execution_count": 207,
   "id": "7e899af2-c04e-4c9e-952b-c319d77f84fc",
   "metadata": {
    "tags": []
   },
   "outputs": [
    {
     "data": {
      "text/plain": [
       "'T. V is Good👍 and Great i suggest everyone to buy this masterpiece sound quality is like stereoThanks developer for❤ making this great 👏😊 innovationREAD MORE'"
      ]
     },
     "execution_count": 207,
     "metadata": {},
     "output_type": "execute_result"
    }
   ],
   "source": [
    "coment_box[0].div.div.find_all(\"div\",{\"class\":\"\"})[0].text"
   ]
  },
  {
   "cell_type": "code",
   "execution_count": 208,
   "id": "737a2b0d-4508-4f1d-922e-51c6297f0718",
   "metadata": {
    "tags": []
   },
   "outputs": [
    {
     "name": "stdout",
     "output_type": "stream",
     "text": [
      "T. V is Good👍 and Great i suggest everyone to buy this masterpiece sound quality is like stereoThanks developer for❤ making this great 👏😊 innovationREAD MORE\n",
      "Worth for money. Reasonable price for smart tv picture quality very goodREAD MORE\n",
      "Thank you so much online Flipkart for your gift in my birthday date. I'm so happy for this product thank you dyanora  company 💖READ MORE\n",
      "Value for moneyREAD MORE\n",
      "Picture quality and sound quality very goodREAD MORE\n",
      "Nice Product 👍READ MORE\n",
      "Very good product I like itREAD MORE\n",
      "A1 QualityREAD MORE\n",
      "Software Optimisation is very poorREAD MORE\n",
      "5 star tv good qualityREAD MORE\n"
     ]
    }
   ],
   "source": [
    "for i in coment_box:\n",
    "    print(i.div.div.find_all(\"div\",{\"class\":\"\"})[0].text)"
   ]
  },
  {
   "cell_type": "code",
   "execution_count": null,
   "id": "920ea651-6489-4e32-8900-e3e4b3c05794",
   "metadata": {},
   "outputs": [],
   "source": []
  }
 ],
 "metadata": {
  "kernelspec": {
   "display_name": "Python 3 (ipykernel)",
   "language": "python",
   "name": "python3"
  },
  "language_info": {
   "codemirror_mode": {
    "name": "ipython",
    "version": 3
   },
   "file_extension": ".py",
   "mimetype": "text/x-python",
   "name": "python",
   "nbconvert_exporter": "python",
   "pygments_lexer": "ipython3",
   "version": "3.11.2"
  }
 },
 "nbformat": 4,
 "nbformat_minor": 5
}
